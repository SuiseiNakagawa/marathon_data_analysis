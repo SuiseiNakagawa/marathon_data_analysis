{
 "cells": [
  {
   "cell_type": "markdown",
   "id": "54c8789f",
   "metadata": {},
   "source": [
    "# Analysis of 2025 SF Marathon Performance"
   ]
  },
  {
   "cell_type": "code",
   "execution_count": null,
   "id": "354698d5",
   "metadata": {},
   "outputs": [],
   "source": [
    "# Data & SQL\n",
    "import sqlite3\n",
    "import pandas as pd\n",
    "\n",
    "# Visualization\n",
    "import matplotlib.pyplot as plt\n",
    "import seaborn as sns\n",
    "sns.set_style(\"whitegrid\")  # optional: nicer default plot style\n",
    "\n",
    "# Connect to your SQLite database \n",
    "conn = sqlite3.connect(\"data/marathon_data.db\")  # adjust path as needed\n",
    "\n",
    "# Optional: check tables\n",
    "tables = pd.read_sql_query(\"SELECT name FROM sqlite_master WHERE type='table';\", conn)\n",
    "print(tables)\n"
   ]
  }
 ],
 "metadata": {
  "kernelspec": {
   "display_name": "anaconda_py311",
   "language": "python",
   "name": "python3"
  },
  "language_info": {
   "name": "python",
   "version": "3.11.5"
  }
 },
 "nbformat": 4,
 "nbformat_minor": 5
}
