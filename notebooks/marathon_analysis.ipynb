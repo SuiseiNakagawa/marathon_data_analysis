{
 "cells": [
  {
   "cell_type": "markdown",
   "id": "54c8789f",
   "metadata": {},
   "source": [
    "# Analysis of 2025 SF Marathon Performance"
   ]
  },
  {
   "cell_type": "code",
   "execution_count": null,
   "id": "354698d5",
   "metadata": {},
   "outputs": [
    {
     "name": "stdout",
     "output_type": "stream",
     "text": [
      "       name\n",
      "0  tcx_data\n",
      "1  gpx_data\n"
     ]
    }
   ],
   "source": [
    "# Data, SQL, visualization imports\n",
    "import sqlite3\n",
    "import pandas as pd\n",
    "import matplotlib.pyplot as plt\n",
    "import seaborn as sns\n",
    "sns.set_style(\"whitegrid\")  # optional: nicer default plot style\n",
    "\n",
    "# Connect to SQLite database \n",
    "con = sqlite3.connect(\"../data/marathon_data.db\") \n",
    "    \n",
    "# Verify tables\n",
    "tables = pd.read_sql_query(\"SELECT name FROM sqlite_master WHERE type='table';\", con)\n",
    "print(tables)\n"
   ]
  }
 ],
 "metadata": {
  "kernelspec": {
   "display_name": ".venv (3.12.2)",
   "language": "python",
   "name": "python3"
  },
  "language_info": {
   "codemirror_mode": {
    "name": "ipython",
    "version": 3
   },
   "file_extension": ".py",
   "mimetype": "text/x-python",
   "name": "python",
   "nbconvert_exporter": "python",
   "pygments_lexer": "ipython3",
   "version": "3.12.2"
  }
 },
 "nbformat": 4,
 "nbformat_minor": 5
}
