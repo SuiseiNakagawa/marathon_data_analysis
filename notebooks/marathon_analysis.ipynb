{
 "cells": [
  {
   "cell_type": "markdown",
   "id": "54c8789f",
   "metadata": {},
   "source": [
    "# Analyzing Performance at the 2025 SF Marathon: Terrain, Pace, and Heart Rate\n",
    "\n",
    "This notebook explores my performance at the 2025 San Francisco Marathon. The data is pulled from Strava records of my 26.2-mile race. The focus of this exploratory analysis is to identify the relationship between course structure and terrain (elevation, distance segments, and aid stations) on performance metrics such as pace and heartrate. The goal is to draw insights to guide future training and serve as a reference if I run this marathon agian. \n",
    "\n",
    "The analysis is done using SQL and Python (pandas, matplotlib) in a Jupyter notebook. Raw data (TCX and GPX) was cleaned in separate Python scripts. "
   ]
  },
  {
   "cell_type": "markdown",
   "id": "bf2d103d",
   "metadata": {},
   "source": [
    "## 1. Read Data"
   ]
  },
  {
   "cell_type": "code",
   "execution_count": 2,
   "id": "354698d5",
   "metadata": {},
   "outputs": [
    {
     "name": "stdout",
     "output_type": "stream",
     "text": [
      "       name\n",
      "0  tcx_data\n"
     ]
    }
   ],
   "source": [
    "# Data, SQL, visualization imports\n",
    "import sqlite3\n",
    "import pandas as pd\n",
    "import matplotlib.pyplot as plt\n",
    "\n",
    "# Connect to SQLite database \n",
    "con = sqlite3.connect(\"../data/marathon_data.db\") \n",
    "cur = con.cursor()\n",
    "    \n",
    "# Verify tables\n",
    "tables = pd.read_sql_query(\"SELECT name FROM sqlite_master WHERE type='table';\", con)\n",
    "print(tables)\n"
   ]
  },
  {
   "cell_type": "code",
   "execution_count": null,
   "id": "ec2af85f",
   "metadata": {},
   "outputs": [
    {
     "name": "stdout",
     "output_type": "stream",
     "text": [
      "         name     type\n",
      "0        time     TEXT\n",
      "1    latitude     REAL\n",
      "2   longitude     REAL\n",
      "3   elevation     REAL\n",
      "4    distance     REAL\n",
      "5  heart_rate  INTEGER\n",
      "        name  type\n",
      "0   latitude  REAL\n",
      "1  longitude  REAL\n",
      "2  elevation  REAL\n",
      "3       time  TEXT\n"
     ]
    }
   ],
   "source": [
    "# Show all columns in the tcx_data table\n",
    "tcx_cols = pd.read_sql(\"PRAGMA table_info(tcx_data);\", con)\n",
    "print(tcx_cols[['name', 'type']])\n"
   ]
  },
  {
   "cell_type": "markdown",
   "id": "59393496",
   "metadata": {},
   "source": [
    "The database contains a `tcx_data` table with 6 columns. The names and data types are as follows:\n",
    "\n",
    "- `tcx_data` \n",
    "    - __time__: timestamp for each row entry\n",
    "    - __latitude__: \n",
    "    - __latitude__: \n",
    "    - __latitude__: \n",
    "    - __latitude__: \n",
    "    - __latitude__: \n",
    "\n"
   ]
  },
  {
   "cell_type": "markdown",
   "id": "76849bd6",
   "metadata": {},
   "source": []
  }
 ],
 "metadata": {
  "kernelspec": {
   "display_name": ".venv (3.12.2)",
   "language": "python",
   "name": "python3"
  },
  "language_info": {
   "codemirror_mode": {
    "name": "ipython",
    "version": 3
   },
   "file_extension": ".py",
   "mimetype": "text/x-python",
   "name": "python",
   "nbconvert_exporter": "python",
   "pygments_lexer": "ipython3",
   "version": "3.12.2"
  }
 },
 "nbformat": 4,
 "nbformat_minor": 5
}
